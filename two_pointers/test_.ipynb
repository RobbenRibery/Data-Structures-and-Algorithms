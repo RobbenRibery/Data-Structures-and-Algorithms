{
 "cells": [
  {
   "cell_type": "code",
   "execution_count": 1,
   "metadata": {},
   "outputs": [
    {
     "name": "stdout",
     "output_type": "stream",
     "text": [
      "1\n",
      "2\n",
      "3\n"
     ]
    }
   ],
   "source": [
    "x = [1,2,3]\n",
    "for n in x: \n",
    "    print(n)\n"
   ]
  },
  {
   "cell_type": "code",
   "execution_count": 2,
   "metadata": {},
   "outputs": [],
   "source": [
    "def repeat():\n",
    "\n",
    "    x = [1,2,3]\n",
    "    res = []\n",
    "    for n in x: \n",
    "        n += 1 \n",
    "        res.append(n)\n",
    "    return res "
   ]
  },
  {
   "cell_type": "code",
   "execution_count": 3,
   "metadata": {},
   "outputs": [
    {
     "name": "stdout",
     "output_type": "stream",
     "text": [
      "2\n",
      "map\n",
      "3\n",
      "map\n",
      "4\n",
      "map\n"
     ]
    }
   ],
   "source": [
    "x = [1,2,3]\n",
    "for subset in repeat(): \n",
    "    print(subset)\n",
    "    print('map')"
   ]
  },
  {
   "cell_type": "code",
   "execution_count": 20,
   "metadata": {},
   "outputs": [],
   "source": [
    "def repeat(x,k):\n",
    "    res =[]\n",
    "    if k==1:\n",
    "        print(f\"k={k}\")\n",
    "        print(x)\n",
    "        print('returned termination result')\n",
    "        return x\n",
    "    for n in repeat(x,k-1): \n",
    "        print(f\"k={k}\")\n",
    "        print(n)\n",
    "        print('n')\n",
    "        n += 1 \n",
    "        print(n)\n",
    "        res.append(n)\n",
    "        print(res)\n",
    "\n",
    "    print('returned this result')\n",
    "    print()\n",
    "    return res "
   ]
  },
  {
   "cell_type": "code",
   "execution_count": 21,
   "metadata": {},
   "outputs": [
    {
     "name": "stdout",
     "output_type": "stream",
     "text": [
      "k=1\n",
      "[1, 2, 3]\n",
      "returned termination result\n",
      "k=2\n",
      "1\n",
      "n\n",
      "2\n",
      "[2]\n",
      "k=2\n",
      "2\n",
      "n\n",
      "3\n",
      "[2, 3]\n",
      "k=2\n",
      "3\n",
      "n\n",
      "4\n",
      "[2, 3, 4]\n",
      "returned this result\n",
      "\n",
      "k=3\n",
      "2\n",
      "n\n",
      "3\n",
      "[3]\n",
      "k=3\n",
      "3\n",
      "n\n",
      "4\n",
      "[3, 4]\n",
      "k=3\n",
      "4\n",
      "n\n",
      "5\n",
      "[3, 4, 5]\n",
      "returned this result\n",
      "\n",
      "k=4\n",
      "3\n",
      "n\n",
      "4\n",
      "[4]\n",
      "k=4\n",
      "4\n",
      "n\n",
      "5\n",
      "[4, 5]\n",
      "k=4\n",
      "5\n",
      "n\n",
      "6\n",
      "[4, 5, 6]\n",
      "returned this result\n",
      "\n"
     ]
    },
    {
     "data": {
      "text/plain": [
       "[4, 5, 6]"
      ]
     },
     "execution_count": 21,
     "metadata": {},
     "output_type": "execute_result"
    }
   ],
   "source": [
    "x = [1,2,3]\n",
    "k=4\n",
    "repeat(x=x, k=k)"
   ]
  },
  {
   "cell_type": "code",
   "execution_count": null,
   "metadata": {},
   "outputs": [],
   "source": []
  }
 ],
 "metadata": {
  "kernelspec": {
   "display_name": "Python 3.8.9 64-bit",
   "language": "python",
   "name": "python3"
  },
  "language_info": {
   "codemirror_mode": {
    "name": "ipython",
    "version": 3
   },
   "file_extension": ".py",
   "mimetype": "text/x-python",
   "name": "python",
   "nbconvert_exporter": "python",
   "pygments_lexer": "ipython3",
   "version": "3.8.9"
  },
  "orig_nbformat": 4,
  "vscode": {
   "interpreter": {
    "hash": "31f2aee4e71d21fbe5cf8b01ff0e069b9275f58929596ceb00d14d90e3e16cd6"
   }
  }
 },
 "nbformat": 4,
 "nbformat_minor": 2
}
